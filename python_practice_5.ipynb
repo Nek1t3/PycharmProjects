{
  "nbformat": 4,
  "nbformat_minor": 0,
  "metadata": {
    "colab": {
      "provenance": []
    },
    "kernelspec": {
      "name": "python3",
      "display_name": "Python 3"
    },
    "language_info": {
      "name": "python"
    }
  },
  "cells": [
    {
      "cell_type": "markdown",
      "source": [
        "# I. OOP"
      ],
      "metadata": {
        "id": "5qV_sehzFCTp"
      }
    },
    {
      "cell_type": "markdown",
      "source": [
        "1. (6б). Створіть клас Animal, додайте три атрибути, один з яких має значення за замовчуванням та два методи на свій розсуд."
      ],
      "metadata": {
        "id": "tx_U_hOALyfg"
      }
    },
    {
      "cell_type": "code",
      "source": [
        "class Animal:\n",
        "  def __init__(self, name, age , sound = \"Unknown\"):\n",
        "    self.name = name\n",
        "    self.age = age\n",
        "    self.sound = sound\n",
        "\n",
        "  def make_sound(self):\n",
        "    print(f\"The {self.name} makes the sound {self.sound}\")\n",
        "\n",
        "  def info(self):\n",
        "    print(f\"name: {self.name}, age: {self.age}\")"
      ],
      "metadata": {
        "id": "-Vf895KaL88N"
      },
      "execution_count": null,
      "outputs": []
    },
    {
      "cell_type": "markdown",
      "source": [
        "2. (2б). Створіть два обʼєкти цього класу, де один з обʼєктів створюється із дефолтним значенням атрибуту. На одному обʼєкті отримайте значення його атрибуту, а на іншому викличте один з його методів."
      ],
      "metadata": {
        "id": "X_UlOMB0L93w"
      }
    },
    {
      "cell_type": "code",
      "source": [
        "default_animal = Animal(name = \"Lucy\", age = 5)\n",
        "custom_animal = Animal(name = \"Bob\", age = 7, sound = \"Roar\")\n",
        "default_animal.make_sound()\n",
        "custom_animal.make_sound()"
      ],
      "metadata": {
        "id": "7gBu0ESOMCpG",
        "colab": {
          "base_uri": "https://localhost:8080/"
        },
        "outputId": "74c9bcf8-eabe-4b8b-c086-72f05eddfcf1"
      },
      "execution_count": null,
      "outputs": [
        {
          "output_type": "stream",
          "name": "stdout",
          "text": [
            "The Lucy makes the sound Unknown\n",
            "The Bob makes the sound Roar\n"
          ]
        }
      ]
    },
    {
      "cell_type": "markdown",
      "source": [
        "3. (5б). Створіть клас, де атрибути мають різні рівні доступу. Спробуйте отримати їхні значення та опишіть результати."
      ],
      "metadata": {
        "id": "HoqSCZt1MHn5"
      }
    },
    {
      "cell_type": "code",
      "source": [
        "class Book:\n",
        "  def __init__(self, name, author, price):\n",
        "    self.name = name\n",
        "    self._author = author\n",
        "    self.__price = price\n",
        "\n",
        "new_book = Book(\"Harry Potter\", \"Rowling\", 200)\n",
        "\n",
        "print(new_book.name)\n",
        "print(new_book._author)\n",
        "print(new_book.__price)\n",
        "\n",
        "#name у нас публічний і його можна викликати і побачити\n",
        "#author у нас захищений але все одно якщо ми викличимо, то нам повернеться значення\n",
        "#price є приватним, якщо викликати, то буде помилка що такого немає, але по факту він є\n"
      ],
      "metadata": {
        "id": "r9b3vJxBMSPV",
        "colab": {
          "base_uri": "https://localhost:8080/",
          "height": 211
        },
        "outputId": "f8dfd9da-5756-4510-a9ae-b2981274c9cb"
      },
      "execution_count": null,
      "outputs": [
        {
          "output_type": "stream",
          "name": "stdout",
          "text": [
            "Harry Potter\n",
            "Rowling\n"
          ]
        },
        {
          "output_type": "error",
          "ename": "AttributeError",
          "evalue": "'Book' object has no attribute '__price'",
          "traceback": [
            "\u001b[0;31m---------------------------------------------------------------------------\u001b[0m",
            "\u001b[0;31mAttributeError\u001b[0m                            Traceback (most recent call last)",
            "\u001b[0;32m<ipython-input-8-c9dbfdbaf922>\u001b[0m in \u001b[0;36m<cell line: 11>\u001b[0;34m()\u001b[0m\n\u001b[1;32m      9\u001b[0m \u001b[0mprint\u001b[0m\u001b[0;34m(\u001b[0m\u001b[0mnew_book\u001b[0m\u001b[0;34m.\u001b[0m\u001b[0mname\u001b[0m\u001b[0;34m)\u001b[0m\u001b[0;34m\u001b[0m\u001b[0;34m\u001b[0m\u001b[0m\n\u001b[1;32m     10\u001b[0m \u001b[0mprint\u001b[0m\u001b[0;34m(\u001b[0m\u001b[0mnew_book\u001b[0m\u001b[0;34m.\u001b[0m\u001b[0m_author\u001b[0m\u001b[0;34m)\u001b[0m\u001b[0;34m\u001b[0m\u001b[0;34m\u001b[0m\u001b[0m\n\u001b[0;32m---> 11\u001b[0;31m \u001b[0mprint\u001b[0m\u001b[0;34m(\u001b[0m\u001b[0mnew_book\u001b[0m\u001b[0;34m.\u001b[0m\u001b[0m__price\u001b[0m\u001b[0;34m)\u001b[0m\u001b[0;34m\u001b[0m\u001b[0;34m\u001b[0m\u001b[0m\n\u001b[0m",
            "\u001b[0;31mAttributeError\u001b[0m: 'Book' object has no attribute '__price'"
          ]
        }
      ]
    },
    {
      "cell_type": "markdown",
      "source": [
        "4. (7б). Як ви розумієте термін self? Для чого використовується метод __init __?"
      ],
      "metadata": {
        "id": "5op2m2vgMSkZ"
      }
    },
    {
      "cell_type": "markdown",
      "source": [
        "Термін \"self\" використовується для посилання на екземпляр (об'єкт) класу всередині класу.\n",
        "Метод __init__ є конструктором класу в Python. Він викликається автоматично при створенні нового об'єкта класу. Його основна роль полягає в ініціалізації атрибутів об'єкта, які мають бути наявні в кожному екземплярі класу."
      ],
      "metadata": {
        "id": "DyiPqNRvMasx"
      }
    },
    {
      "cell_type": "markdown",
      "source": [
        "5. (9б). Створіть клас Фігура без атрибутів, з методом get_area для отримання площі фігури, що повертає 0 та __add __, який приймає self та other в якості аргументів, а повертає суму площин фігур self та other."
      ],
      "metadata": {
        "id": "-6X8EGfjMd2y"
      }
    },
    {
      "cell_type": "code",
      "source": [
        "class Figure:\n",
        "  def get_area(self):\n",
        "    return 0\n",
        "\n",
        "  def __add__(self,other):\n",
        "    return self.get_area() + other.get_area()\n"
      ],
      "metadata": {
        "id": "4rvO_wYUMaEr"
      },
      "execution_count": null,
      "outputs": []
    },
    {
      "cell_type": "markdown",
      "source": [
        "6. (11б). Створіть 2 дочірніх класи від Фігури: Трикутник та Коло, які мають атрибути, необхідні для розрахунку площин. Визначте метод get_area в кожному з них так, щоби вони розраховували площу в залежності від формули для кожного типу фігури. Створіть обʼєкт класу Трикутник та обʼєкт класу Коло. Виконайте операцію суми за допомогою оператора + між ними."
      ],
      "metadata": {
        "id": "SFcKnnv5Mo_z"
      }
    },
    {
      "cell_type": "code",
      "source": [
        "class Triangle(Figure):\n",
        "  def __init__(self,base,height):\n",
        "    self.base = base\n",
        "    self.height = height\n",
        "\n",
        "  def get_area(self):\n",
        "    return 0.5*self.base*self.height\n",
        "\n",
        "class Circle(Figure):\n",
        "  def __init__(self,radius):\n",
        "    self.radius = radius\n",
        "\n",
        "  def get_area(self):\n",
        "    pi = 3.14\n",
        "    return pi*self.radius**2\n",
        "\n",
        "triangle = Triangle(5, 8)\n",
        "circle = Circle(4)\n",
        "\n",
        "area_triangle = triangle.get_area()\n",
        "area_circle = circle.get_area()\n",
        "\n",
        "print(f\"Area of Triangle: {area_triangle}\")\n",
        "print(f\"Area of Circle: {area_circle}\")\n",
        "\n",
        "total_area = triangle + circle\n",
        "print(f\"Total Area: {total_area}\")"
      ],
      "metadata": {
        "id": "H3GVNr69Muf3",
        "colab": {
          "base_uri": "https://localhost:8080/"
        },
        "outputId": "4a3d94ca-b7d5-4a35-9f68-6a321830a259"
      },
      "execution_count": null,
      "outputs": [
        {
          "output_type": "stream",
          "name": "stdout",
          "text": [
            "Area of Triangle: 20.0\n",
            "Area of Circle: 50.24\n",
            "Total Area: 70.24000000000001\n"
          ]
        }
      ]
    },
    {
      "cell_type": "markdown",
      "source": [
        "7. (3б). Продемонструйте різницю між isinstance та issubclass."
      ],
      "metadata": {
        "id": "HCvR206YMvLK"
      }
    },
    {
      "cell_type": "code",
      "source": [
        "x = isinstance(5, int)\n",
        "\n",
        "print(x)\n",
        "\n",
        "class myAge:\n",
        "  age = 19\n",
        "\n",
        "class myObj(myAge):\n",
        "  name = \"Nikita\"\n",
        "  age = myAge\n",
        "\n",
        "x = issubclass(myObj, myAge)\n",
        "\n",
        "print(x)\n"
      ],
      "metadata": {
        "id": "L_V1bBvDM0GN",
        "colab": {
          "base_uri": "https://localhost:8080/"
        },
        "outputId": "ab47ce7a-d255-4d00-9f40-2fba812b7ed9"
      },
      "execution_count": 1,
      "outputs": [
        {
          "output_type": "stream",
          "name": "stdout",
          "text": [
            "True\n",
            "True\n"
          ]
        }
      ]
    },
    {
      "cell_type": "markdown",
      "source": [
        "8. (13б). Створіть клас BankAccount з приватними атрибутами balance та account_number. Реалізуйте методи поповнення та зняття коштів, забезпечивши належну інкапсуляцію. Підказка: використовуйте декоратори property та setter."
      ],
      "metadata": {
        "id": "jjsaBZ-iM0Qq"
      }
    },
    {
      "cell_type": "code",
      "source": [
        "class BankAccount:\n",
        "    def __init__(self, account_number, initial_balance=0):\n",
        "        self._account_number = account_number\n",
        "        self._balance = initial_balance\n",
        "\n",
        "    @property\n",
        "    def balance(self):\n",
        "        return self._balance\n",
        "    @property\n",
        "\n",
        "    def account_number(self):\n",
        "        return self._account_number\n",
        "\n",
        "    @balance.setter\n",
        "    def balance(self, amount):\n",
        "        if amount < 0:\n",
        "            print(\"Amount must be a positive value.\")\n",
        "        else:\n",
        "            self._balance = amount\n",
        "            print(\"Balance updated successfully.\")\n",
        "\n",
        "    def deposit(self, amount):\n",
        "        if amount > 0:\n",
        "            self._balance += amount\n",
        "            print(f\"Deposited {amount} successfully.\")\n",
        "        else:\n",
        "            print(\"Deposit amount must be a positive value.\")\n",
        "\n",
        "    def withdraw(self, amount):\n",
        "        if 0 < amount <= self._balance:\n",
        "            self._balance -= amount\n",
        "            print(f\"Withdrawn {amount} successfully.\")\n",
        "        else:\n",
        "            print(\"Insufficient funds or invalid withdrawal amount.\")\n",
        "\n",
        "acc = BankAccount(account_number=\"123456789\", initial_balance=1000)\n",
        "\n",
        "account = BankAccount(account_number=\"123456789\", initial_balance=1000)\n",
        "\n",
        "print(\"Account Number:\", account.account_number)\n",
        "print(\"Initial Balance:\", account.balance)\n",
        "\n",
        "account.deposit(500)\n",
        "print(\"Updated Balance:\", account.balance)\n",
        "\n",
        "account.withdraw(200)\n",
        "print(\"Updated Balance:\", account.balance)\n"
      ],
      "metadata": {
        "id": "xCvZ7lh8M7YA",
        "colab": {
          "base_uri": "https://localhost:8080/"
        },
        "outputId": "99dd9b53-88a6-4ec2-b425-b0e2249ea3bc"
      },
      "execution_count": null,
      "outputs": [
        {
          "output_type": "stream",
          "name": "stdout",
          "text": [
            "Account Number: 123456789\n",
            "Initial Balance: 1000\n",
            "Deposited 500 successfully.\n",
            "Updated Balance: 1500\n",
            "Withdrawn 200 successfully.\n",
            "Updated Balance: 1300\n"
          ]
        }
      ]
    },
    {
      "cell_type": "markdown",
      "source": [
        "9. (11б). Створіть клас Library, який містить список об'єктів типу Book. Реалізуйте методи для додавання книги, видалення книги та відображення списку книг."
      ],
      "metadata": {
        "id": "tIzL2SJTM8ft"
      }
    },
    {
      "cell_type": "code",
      "source": [
        "class Book:\n",
        "    def __init__(self, title, author):\n",
        "        self.title = title\n",
        "        self.author = author\n",
        "\n",
        "class Library:\n",
        "  def __init__(self):\n",
        "    self.books = []\n",
        "\n",
        "  def add_book(self, book):\n",
        "    self.books.append(book)\n",
        "    print(f\"Book '{book.title}' by {book.author} added to the library.\")\n",
        "\n",
        "  def remove_book(self,title):\n",
        "    for i in self.books:\n",
        "      if i.title == title:\n",
        "        self.books.remove(i)\n",
        "        print(f\"Book '{title}' removed from the library.\")\n",
        "        return\n",
        "      print(f\"Book '{title}' not found in the library.\")\n",
        "  def display_books(self):\n",
        "     if not self.books:\n",
        "            print(\"The library is empty.\")\n",
        "     else:\n",
        "            print(\"Books in the library:\")\n",
        "            for book in self.books:\n",
        "                print(f\"- '{book.title}' by {book.author}\")\n",
        "\n",
        "library = Library()\n",
        "\n",
        "book1 = Book(title=\"Harry Potter 1\", author=\"J.K. Rowling\")\n",
        "book2 = Book(title=\"Harry Potter 2\", author=\"J.K. Rowling\")\n",
        "\n",
        "library.add_book(book1)\n",
        "library.add_book(book2)\n",
        "\n",
        "library.display_books()\n",
        "\n",
        "library.remove_book(\"Harry Potter 1\")\n",
        "\n",
        "library.display_books()\n"
      ],
      "metadata": {
        "id": "HWxfJKLtNAUZ",
        "colab": {
          "base_uri": "https://localhost:8080/"
        },
        "outputId": "2ffd2676-cda8-4bc4-a150-bc14c9fa2103"
      },
      "execution_count": null,
      "outputs": [
        {
          "output_type": "stream",
          "name": "stdout",
          "text": [
            "Book 'Harry Potter 1' by J.K. Rowling added to the library.\n",
            "Book 'Harry Potter 2' by J.K. Rowling added to the library.\n",
            "Books in the library:\n",
            "- 'Harry Potter 1' by J.K. Rowling\n",
            "- 'Harry Potter 2' by J.K. Rowling\n",
            "Book 'Harry Potter 1' removed from the library.\n",
            "Books in the library:\n",
            "- 'Harry Potter 2' by J.K. Rowling\n"
          ]
        }
      ]
    },
    {
      "cell_type": "markdown",
      "source": [
        "10. (13б). Створіть клас Person з атрибутами name та age. Створіть ще один клас Employee з такими атрибутами, як department та salary. Створіть клас Manager, який успадковує обидва класи Person та Employee. Продемонструйте використання множинної спадковості, створивши обʼєкт класу Manager та отримавши mro для цього класу."
      ],
      "metadata": {
        "id": "lmV8pAwwNIqu"
      }
    },
    {
      "cell_type": "code",
      "source": [
        "class Person:\n",
        "  def __init__(self, name, age):\n",
        "    self.name = name\n",
        "    self.age = age\n",
        "\n",
        "class Employee:\n",
        "  def __init__(self, department, salary):\n",
        "    self.department = department\n",
        "    self.salary = salary\n",
        "\n",
        "class Manager(Person, Employee):\n",
        "  def __init__(self,name, age, department, salary, title):\n",
        "    Person.__init__(self, name, age)\n",
        "    Employee.__init__(self, department, salary)\n",
        "    self.title = title\n",
        "\n",
        "  def display_info(self):\n",
        "        print(f\"Manager: {self.name}, Age: {self.age}, Department: {self.department}, Salary: {self.salary}, Title: {self.title}\")\n",
        "\n",
        "manager = Manager(name=\"John Doe\", age=35, department=\"IT\", salary=80000, title=\"Senior Manager\")\n",
        "\n",
        "\n",
        "manager.display_info()\n",
        "\n",
        "\n",
        "print(\"Method Resolution Order (MRO):\", Manager.mro())\n"
      ],
      "metadata": {
        "id": "R49grKlWNPeN",
        "colab": {
          "base_uri": "https://localhost:8080/"
        },
        "outputId": "80722a3d-9bdb-4907-b74c-bbd7f329994e"
      },
      "execution_count": null,
      "outputs": [
        {
          "output_type": "stream",
          "name": "stdout",
          "text": [
            "Manager: John Doe, Age: 35, Department: IT, Salary: 80000, Title: Senior Manager\n",
            "Method Resolution Order (MRO): [<class '__main__.Manager'>, <class '__main__.Person'>, <class '__main__.Employee'>, <class 'object'>]\n"
          ]
        }
      ]
    },
    {
      "cell_type": "markdown",
      "source": [
        "# II. Iterator"
      ],
      "metadata": {
        "id": "dIJyUiNBFG8G"
      }
    },
    {
      "cell_type": "markdown",
      "source": [
        "11. (4б). Визначте рядок(str) з 4ма різними за значенням символами. Створіть ітератор на основі цього рядка. Викличте 5 разів функцію next на ітераторі, 4ри перших з них огорніть у ф-цію print()."
      ],
      "metadata": {
        "id": "13vsm0NyKIzL"
      }
    },
    {
      "cell_type": "code",
      "source": [
        "my_string = \"abcd\"\n",
        "my_iterator = iter(my_string)\n",
        "\n",
        "print(next(my_iterator))\n",
        "print(next(my_iterator))\n",
        "print(next(my_iterator))\n",
        "print(next(my_iterator))\n",
        "print(next(my_iterator))\n"
      ],
      "metadata": {
        "id": "81ntabAkKuz-",
        "colab": {
          "base_uri": "https://localhost:8080/",
          "height": 245
        },
        "outputId": "cdacafbf-c754-4cbc-88b5-e014b04ab3d1"
      },
      "execution_count": null,
      "outputs": [
        {
          "output_type": "stream",
          "name": "stdout",
          "text": [
            "a\n",
            "b\n",
            "c\n",
            "d\n"
          ]
        },
        {
          "output_type": "error",
          "ename": "StopIteration",
          "evalue": "",
          "traceback": [
            "\u001b[0;31m---------------------------------------------------------------------------\u001b[0m",
            "\u001b[0;31mStopIteration\u001b[0m                             Traceback (most recent call last)",
            "\u001b[0;32m<ipython-input-23-ba4ad9277370>\u001b[0m in \u001b[0;36m<cell line: 8>\u001b[0;34m()\u001b[0m\n\u001b[1;32m      6\u001b[0m \u001b[0mprint\u001b[0m\u001b[0;34m(\u001b[0m\u001b[0mnext\u001b[0m\u001b[0;34m(\u001b[0m\u001b[0mmy_iterator\u001b[0m\u001b[0;34m)\u001b[0m\u001b[0;34m)\u001b[0m\u001b[0;34m\u001b[0m\u001b[0;34m\u001b[0m\u001b[0m\n\u001b[1;32m      7\u001b[0m \u001b[0mprint\u001b[0m\u001b[0;34m(\u001b[0m\u001b[0mnext\u001b[0m\u001b[0;34m(\u001b[0m\u001b[0mmy_iterator\u001b[0m\u001b[0;34m)\u001b[0m\u001b[0;34m)\u001b[0m\u001b[0;34m\u001b[0m\u001b[0;34m\u001b[0m\u001b[0m\n\u001b[0;32m----> 8\u001b[0;31m \u001b[0mprint\u001b[0m\u001b[0;34m(\u001b[0m\u001b[0mnext\u001b[0m\u001b[0;34m(\u001b[0m\u001b[0mmy_iterator\u001b[0m\u001b[0;34m)\u001b[0m\u001b[0;34m)\u001b[0m\u001b[0;34m\u001b[0m\u001b[0;34m\u001b[0m\u001b[0m\n\u001b[0m",
            "\u001b[0;31mStopIteration\u001b[0m: "
          ]
        }
      ]
    },
    {
      "cell_type": "markdown",
      "source": [
        "А що якщо викликати цю ж функцію на рядку?"
      ],
      "metadata": {
        "id": "aekWHGXOLRsO"
      }
    },
    {
      "cell_type": "code",
      "source": [
        "my_string = \"abcd\"\n",
        "\n",
        "result = next(my_string)\n"
      ],
      "metadata": {
        "id": "mxATGsErLV1i",
        "colab": {
          "base_uri": "https://localhost:8080/",
          "height": 176
        },
        "outputId": "f710bc55-432a-40e7-8cc4-c99b59c23838"
      },
      "execution_count": null,
      "outputs": [
        {
          "output_type": "error",
          "ename": "TypeError",
          "evalue": "'str' object is not an iterator",
          "traceback": [
            "\u001b[0;31m---------------------------------------------------------------------------\u001b[0m",
            "\u001b[0;31mTypeError\u001b[0m                                 Traceback (most recent call last)",
            "\u001b[0;32m<ipython-input-24-2e82cb7facbf>\u001b[0m in \u001b[0;36m<cell line: 3>\u001b[0;34m()\u001b[0m\n\u001b[1;32m      1\u001b[0m \u001b[0mmy_string\u001b[0m \u001b[0;34m=\u001b[0m \u001b[0;34m\"abcd\"\u001b[0m\u001b[0;34m\u001b[0m\u001b[0;34m\u001b[0m\u001b[0m\n\u001b[1;32m      2\u001b[0m \u001b[0;34m\u001b[0m\u001b[0m\n\u001b[0;32m----> 3\u001b[0;31m \u001b[0mresult\u001b[0m \u001b[0;34m=\u001b[0m \u001b[0mnext\u001b[0m\u001b[0;34m(\u001b[0m\u001b[0mmy_string\u001b[0m\u001b[0;34m)\u001b[0m\u001b[0;34m\u001b[0m\u001b[0;34m\u001b[0m\u001b[0m\n\u001b[0m",
            "\u001b[0;31mTypeError\u001b[0m: 'str' object is not an iterator"
          ]
        }
      ]
    },
    {
      "cell_type": "markdown",
      "source": [
        " 12. (5б). Опишіть своїми словами в одному реченні, як ви розумієте різницю між ітерабельними обʼєктами та ітераторами (можна на прикладі)."
      ],
      "metadata": {
        "id": "XwtMEopwJ4pH"
      }
    },
    {
      "cell_type": "markdown",
      "source": [
        "Ітерабельні об'єкти у Python це об'єкти, які можна перебирати, наприклад списки чи рядки, тоді як ітератори - це об'єкти, які втілюють інтерфейс ітератора, здатні послідовно повертати елементи ітерабельного об'єкта, зберігаючи свій стан між викликами next()"
      ],
      "metadata": {
        "id": "-sHrODc3KFn8"
      }
    },
    {
      "cell_type": "markdown",
      "source": [
        "13. (11б). Створіть клас, що має визначений Iterator Protocol та при кожному виклику next повертає літери англійської абетки, поки вони не вичерпаються."
      ],
      "metadata": {
        "id": "E9qJWmNbK8Gl"
      }
    },
    {
      "cell_type": "code",
      "source": [
        "class AlphabetIterator:\n",
        "    def __init__(self):\n",
        "        self.current_char = ord('a')\n",
        "\n",
        "    def __iter__(self):\n",
        "        return self\n",
        "\n",
        "    def __next__(self):\n",
        "        if self.current_char > ord('z'):\n",
        "            raise StopIteration\n",
        "        else:\n",
        "            char = chr(self.current_char)\n",
        "            self.current_char += 1\n",
        "            return char\n",
        "\n",
        "alphabet_iterator = AlphabetIterator()\n",
        "\n",
        "for _ in range(17):\n",
        "    print(next(alphabet_iterator))\n"
      ],
      "metadata": {
        "id": "cqx-g_RsLo6I",
        "colab": {
          "base_uri": "https://localhost:8080/"
        },
        "outputId": "7670a10c-cb66-4124-b711-4f0e055c4374"
      },
      "execution_count": null,
      "outputs": [
        {
          "output_type": "stream",
          "name": "stdout",
          "text": [
            "a\n",
            "b\n",
            "c\n",
            "d\n",
            "e\n",
            "f\n",
            "g\n",
            "h\n",
            "i\n",
            "j\n",
            "k\n",
            "l\n",
            "m\n",
            "n\n",
            "o\n",
            "p\n",
            "q\n"
          ]
        }
      ]
    },
    {
      "cell_type": "markdown",
      "source": [
        "# Вітаю! Ви велика(ий) молодець, що впоралась(вся). Похваліть себе та побалуйте чимось приємним. Я Вами пишаюся."
      ],
      "metadata": {
        "id": "Z3E3S_s1Fv7-"
      }
    }
  ]
}